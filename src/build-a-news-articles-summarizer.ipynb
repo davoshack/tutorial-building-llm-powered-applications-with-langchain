{
 "cells": [
  {
   "cell_type": "markdown",
   "metadata": {},
   "source": [
    "# Tutorial 2: Building a News Articles Summarizer"
   ]
  },
  {
   "cell_type": "markdown",
   "metadata": {},
   "source": [
    "This project will guide you through building a News Articles Summarizer using OpenAI’s GPT-4 model and LangChain. It can scrape online articles, extract their titles and content, and produce concise summaries.\n",
    "\n",
    "Here’s what we are going to do in this project:\n",
    "\n",
    "![image](./build-news-articles-summarizer.jpg)\n",
    "\n",
    "*Pipeline for our news articles summarizer with scraping, parsing, prompting, and generation.*"
   ]
  },
  {
   "cell_type": "code",
   "execution_count": 1,
   "metadata": {},
   "outputs": [],
   "source": [
    "import os\n",
    "from langchain_custom_utils.helper import get_openai_api_key, print_response\n",
    "OPENAI_API_KEY = get_openai_api_key()"
   ]
  }
 ],
 "metadata": {
  "kernelspec": {
   "display_name": "tutorial-building-llm-powered-applications-with-langchain",
   "language": "python",
   "name": "python3"
  },
  "language_info": {
   "codemirror_mode": {
    "name": "ipython",
    "version": 3
   },
   "file_extension": ".py",
   "mimetype": "text/x-python",
   "name": "python",
   "nbconvert_exporter": "python",
   "pygments_lexer": "ipython3",
   "version": "3.12.0"
  }
 },
 "nbformat": 4,
 "nbformat_minor": 2
}
