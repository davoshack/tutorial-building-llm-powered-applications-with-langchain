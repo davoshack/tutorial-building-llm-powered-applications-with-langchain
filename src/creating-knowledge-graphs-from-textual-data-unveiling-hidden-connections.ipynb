{
 "cells": [
  {
   "cell_type": "markdown",
   "metadata": {},
   "source": [
    "### Creating Knowledge Graphs from Textual Data: Finding Hidden Connections"
   ]
  },
  {
   "cell_type": "markdown",
   "metadata": {},
   "source": [
    "Knowledge graphs have emerged as a powerful way to visualize and understand relationships between different pieces of information, transforming unstructured text into a structured network of entities and their relationships. We will guide you through a simple workflow for creating a knowledge graph from textual data, making complex information more accessible and easier to understand.\n",
    "\n",
    "Here’s what we are going to do in this project:\n",
    "\n",
    "![image](./knowledge-graph-data-pipeline.jpg)\n",
    "\n",
    "*Our knowledge graph from textual data pipeline.*"
   ]
  },
  {
   "cell_type": "markdown",
   "metadata": {},
   "source": [
    "Before creating a knowledge graph, it is essential to understand the difference between **knowledge graphs** and **knowledge bases,** as these terms are often mistakenly interchanged.\n",
    "\n",
    "A **Knowledge Base (KB)** is a collection of structured information about a specific domain. A **Knowledge Graph** is a form of **Knowledge Base** organized as a graph. In a **Knowledge Graph,** `nodes` represent *entities*, and `edges` represent the *relationships between these entities*. For instance, from the sentence “Fabio lives in Italy,” we can derive the relationship triplet `<Fabio, lives in, Italy>`, where “Fabio” and “Italy” are the entities, and “lives in” represents their connection.\n",
    "\n",
    "A **knowledge graph** is a subtype of a **knowledge base**; however, it is not always associated with one.\n",
    "\n",
    "Building a knowledge graph generally involves two main steps:\n",
    "\n",
    "1.  **Named Entity Recognition (NER):**  This step focuses on identifying and extracting entities from the text, which will serve as the nodes in the knowledge graph.\n",
    "2.  **Relation Classification (RC):**  This step focuses on identifying and classifying the relationships between the extracted entities, forming the edges of the knowledge graph.\n",
    "\n",
    "The **knowledge graph** is often visualized using tools like **pyvis**.\n",
    "\n",
    "To enhance the process of creating a **knowledge graph** from text, additional steps can be integrated, such as:\n",
    "\n",
    "-   **Entity Linking:**  This step helps to normalize different mentions of the same entity. For example, “Napoleon” and “Napoleon Bonaparte” would be linked to a common reference, such as their Wikipedia page.\n",
    "-   **Source Tracking:**  This involves recording the origin of each piece of information, like the URL of the article or the specific text fragment it came from. Tracking sources helps assess the information’s credibility (for example, a relationship is considered more reliable if multiple reputable sources verify it).\n",
    "\n",
    "In this project, we will simultaneously do **Named Entity Recognition** and **Relation Classification** through an effective prompt. This combined approach is often referred to as **Relation Extraction (RE)**."
   ]
  },
  {
   "cell_type": "markdown",
   "metadata": {},
   "source": [
    "## Building a Knowledge Graph with LangChain\n",
    "\n",
    "To illustrate the use of prompts for relation extraction in LangChain, let’s use the KNOWLEDGE_TRIPLE_EXTRACTION_PROMPT variable as the prompt. This prompt is specifically designed to extract knowledge triples (subject, predicate, and object) from a given text.\n",
    "\n",
    "In LangChain, this prompt can be utilized by the `ConversationEntityMemory` class. This class lets chatbots remember previous conversations by storing the relations extracted from these messages.\n",
    "\n",
    "The KNOWLEDGE_TRIPLE_EXTRACTION_PROMPT variable is an instance of the `PromptTemplate`  class, taking text as an input variable. The template itself is a string that includes several examples and directives for the language model, guiding it to extract knowledge triples from the input text."
   ]
  },
  {
   "cell_type": "code",
   "execution_count": null,
   "metadata": {},
   "outputs": [],
   "source": [
    "import os\n",
    "from langchain_custom_utils.helper import get_openai_api_key, print_response\n",
    "OPENAI_API_KEY = get_openai_api_key()"
   ]
  },
  {
   "cell_type": "code",
   "execution_count": null,
   "metadata": {},
   "outputs": [],
   "source": [
    "from langchain.prompts import PromptTemplate\n",
    "from langchain.chat_models import ChatOpenAI\n",
    "from langchain.chains import LLMChain\n",
    "from langchain.graphs.networkx_graph import KG_TRIPLE_DELIMITER\n",
    "\n",
    "# Prompt template for knowledge triple extraction\n",
    "_DEFAULT_KNOWLEDGE_TRIPLE_EXTRACTION_TEMPLATE = (\n",
    "    \"You are a networked intelligence helping a human track knowledge triples\"\n",
    "    \" about all relevant people, things, concepts, etc. and integrating\"\n",
    "    \" them with your knowledge stored within your weights\"\n",
    "    \" as well as that stored in a knowledge graph.\"\n",
    "    \" Extract all of the knowledge triples from the text.\"\n",
    "    \" A knowledge triple is a clause that contains a subject, a predicate,\"\n",
    "    \" and an object. The subject is the entity being described,\"\n",
    "    \" the predicate is the property of the subject that is being\"\n",
    "    \" described, and the object is the value of the property.\\n\\n\"\n",
    "    \"EXAMPLE\\n\"\n",
    "    \"It's a state in the US. It's also the number 1 producer of gold in the US.\\n\\n\"\n",
    "    f\"Output: (Nevada, is a, state){KG_TRIPLE_DELIMITER}(Nevada, is in, US)\"\n",
    "    f\"{KG_TRIPLE_DELIMITER}(Nevada, is the number 1 producer of, gold)\\n\"\n",
    "    \"END OF EXAMPLE\\n\\n\"\n",
    "    \"EXAMPLE\\n\"\n",
    "    \"I'm going to the store.\\n\\n\"\n",
    "    \"Output: NONE\\n\"\n",
    "    \"END OF EXAMPLE\\n\\n\"\n",
    "    \"EXAMPLE\\n\"\n",
    "    \"Oh huh. I know Descartes likes to drive antique scooters and play the mandolin.\\n\"\n",
    "    f\"Output: (Descartes, likes to drive, antique scooters){KG_TRIPLE_DELIMITER}(Descartes, plays, mandolin)\\n\"\n",
    "    \"END OF EXAMPLE\\n\\n\"\n",
    "    \"EXAMPLE\\n\"\n",
    "    \"{text}\"\n",
    "    \"Output:\"\n",
    ")\n",
    "\n",
    "KNOWLEDGE_TRIPLE_EXTRACTION_PROMPT = PromptTemplate(\n",
    "    input_variables=[\"text\"],\n",
    "    template=_DEFAULT_KNOWLEDGE_TRIPLE_EXTRACTION_TEMPLATE,\n",
    ")\n",
    "\n",
    "# Instantiate the OpenAI model\n",
    "llm = ChatOpenAI(model_name='gpt-3.5-turbo', temperature=0.0)\n",
    "\n",
    "# Create an LLMChain using the knowledge triple extraction prompt\n",
    "chain = LLMChain(llm=llm, prompt=KNOWLEDGE_TRIPLE_EXTRACTION_PROMPT)\n",
    "\n",
    "# Run the chain with the specified text\n",
    "text = \"The city of Paris is the capital and most populous city of France. The Eiffel Tower is a famous landmark in Paris.\"\n",
    "triples = chain.run(text)\n",
    "\n",
    "print(triples)"
   ]
  },
  {
   "cell_type": "markdown",
   "metadata": {},
   "source": [
    "In the previous code, we used the prompt to extract relation triplets from text using **few-shot** examples. We’ll then parse the generated triplets and collect them into a list. Here, `triples_list` will contain the knowledge triplets extracted from the text. We need to parse the response and collect the triplets into a list:"
   ]
  },
  {
   "cell_type": "code",
   "execution_count": null,
   "metadata": {},
   "outputs": [],
   "source": [
    "def parse_triples(response, delimiter=KG_TRIPLE_DELIMITER):\n",
    "    if not response:\n",
    "        return []\n",
    "    return response.split(delimiter)\n",
    "\n",
    "triples_list = parse_triples(triples)\n",
    "\n",
    "# Print the extracted relation triplets\n",
    "print(triples_list)"
   ]
  }
 ],
 "metadata": {
  "kernelspec": {
   "display_name": "tutorial-building-llm-powered-applications-with-langchain",
   "language": "python",
   "name": "python3"
  },
  "language_info": {
   "name": "python",
   "version": "3.12.0"
  }
 },
 "nbformat": 4,
 "nbformat_minor": 2
}
