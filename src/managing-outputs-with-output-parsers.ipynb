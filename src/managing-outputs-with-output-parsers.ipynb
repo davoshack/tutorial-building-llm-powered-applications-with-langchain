{
 "cells": [
  {
   "cell_type": "markdown",
   "metadata": {},
   "source": [
    "In a production setting, outputs from language models in a predictable data structure are often desirable. Consider, for instance, developing a thesaurus application to generate a collection of alternative words relevant to the given context. Large language models (LLMs) can generate numerous suggestions for synonyms or similar terms. Below is an example of output from ChatGPT listing several words closely related to “behavior.”\n",
    "\n",
    "    Here are some substitute words for \"behavior\":  \n",
    "      \n",
    "    Conduct  \n",
    "    Manner  \n",
    "    Demeanor  \n",
    "    Attitude  \n",
    "    Disposition  \n",
    "    Deportment  \n",
    "    Etiquette  \n",
    "    Protocol  \n",
    "    Performance  \n",
    "    Actions\n",
    "\n",
    "The challenge arises from the absence of a dynamic method to extract relevant information from the provided text. Consider splitting the response by new lines and disregarding the initial lines. However, this approach is unreliable as there’s no assurance that responses will maintain a consistent format. The list might be numbered, or it might not include an introductory line.\n",
    "\n",
    "Output Parsers enable us to define a data structure that precisely describes what is expected from the model. In a word suggestion application, you might request a list of words or a combination of different variables, such as a word and an explanation.\n",
    "\n",
    "Structured outputs can also be enforced through APIs, such as those provided by OpenAI models, where the model can be prompted to generate outputs following a predefined schema. For instance, you can specify a JSON schema or use a Pydantic model to ensure that the outputs conform to the expected structure, making it easier to integrate into applications that require predictable data formats. This capability will be covered in more detail in the book, where we will explore practical methods to structure and validate outputs using these techniques.\n",
    "\n",
    "The Pydantic parser is versatile and has three unique types. However, other options are also available for less complex tasks.\n",
    "\n",
    "**Note:**  The thesaurus application will serve as a practical example to clarify the nuances of each approach."
   ]
  }
 ],
 "metadata": {
  "language_info": {
   "name": "python"
  }
 },
 "nbformat": 4,
 "nbformat_minor": 2
}
