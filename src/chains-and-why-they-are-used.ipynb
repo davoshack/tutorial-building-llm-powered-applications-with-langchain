{
 "cells": [
  {
   "cell_type": "markdown",
   "metadata": {},
   "source": [
    "# What are LangChain Chains\n",
    "\n",
    "In LangChain, chains facilitate the creation of end-to-end RAG pipelines. They integrate various components into a user-friendly interface, including the model, prompt, memory, output parsing, and debugging capabilities. A chain does the following: 1) receives the user’s query as input, 2) processes the LLM’s response, and 3) returns the output to the user.\n",
    "\n",
    "To design a custom pipeline, one can extend the Chain class. An example is the LLMChain, which represents the most basic chain type in LangChain and inherits from the Chain parent class."
   ]
  },
  {
   "cell_type": "markdown",
   "metadata": {},
   "source": [
    "## Generating Text with LLMChain\n",
    "\n",
    "Several methods, each with a unique output format, are available for effectively using a chain. This section will create a bot to suggest contextually appropriate replacement words. The following code snippet uses the GPT-3 model via the OpenAI API. It employs the PromptTemplate feature from LangChain and unifies the process using the LLMChain class."
   ]
  },
  {
   "cell_type": "markdown",
   "metadata": {},
   "source": [
    "Set the OPENAI_API_KEY environment variable with your API credentials."
   ]
  },
  {
   "cell_type": "code",
   "execution_count": null,
   "metadata": {},
   "outputs": [],
   "source": [
    "import os\n",
    "from langchain_custom_utils.helper import get_openai_api_key, get_deeplake_api_key, print_response\n",
    "OPENAI_API_KEY = get_openai_api_key()"
   ]
  },
  {
   "cell_type": "markdown",
   "metadata": {},
   "source": [
    "## Calling"
   ]
  },
  {
   "cell_type": "code",
   "execution_count": null,
   "metadata": {},
   "outputs": [],
   "source": [
    "from langchain import PromptTemplate, OpenAI, LLMChain\n",
    "\n",
    "prompt_template = \"What is a word to replace the following: {word}?\"\n",
    "\n",
    "# Set the \"OPENAI_API_KEY\" environment variable before running following line.\n",
    "llm = OpenAI(model_name=\"gpt-3.5-turbo\", temperature=0)\n",
    "\n",
    "llm_chain = LLMChain(\n",
    "    llm=llm,\n",
    "    prompt=PromptTemplate.from_template(prompt_template)\n",
    ")\n",
    "llm_chain(\"artificial\")"
   ]
  },
  {
   "cell_type": "markdown",
   "metadata": {},
   "source": [
    "The simplest use of the chain is the __call__ method. This method directly passes the input to the object during its initialization and returns the input variable and the model’s response, provided under the text key."
   ]
  },
  {
   "cell_type": "markdown",
   "metadata": {},
   "source": [
    "It is also possible to pass numerous inputs simultaneously and receive a list for each input using the `.apply()` method. The only distinction is that inputs are not included in the returned list but will be in the same order as the input."
   ]
  },
  {
   "cell_type": "code",
   "execution_count": null,
   "metadata": {},
   "outputs": [],
   "source": [
    "input_list = [\n",
    "    {\"word\": \"artificial\"},\n",
    "    {\"word\": \"intelligence\"},\n",
    "    {\"word\": \"robot\"}\n",
    "]\n",
    "\n",
    "llm_chain.apply(input_list)"
   ]
  },
  {
   "cell_type": "markdown",
   "metadata": {},
   "source": [
    "The `.generate()` method provides a more detailed response by returning an instance of LLMResult. This instance includes additional information, such as the `finish_reason` key, which clarifies why the generation process concluded. It could indicate that the model chose to finish or exceeded the length limit. Other self-explanatory data includes the total number of used tokens and the model used."
   ]
  },
  {
   "cell_type": "code",
   "execution_count": null,
   "metadata": {},
   "outputs": [],
   "source": [
    "llm_chain.generate(input_list)"
   ]
  },
  {
   "cell_type": "markdown",
   "metadata": {},
   "source": [
    "Another method to consider is `.predict()`, which can be used interchangeably with .`run()`. This method is particularly effective when dealing with multiple inputs for a single prompt, though it can also be utilized with a single input. The following prompt will give both the word to be substituted and the context that the model must examine:"
   ]
  },
  {
   "cell_type": "code",
   "execution_count": null,
   "metadata": {},
   "outputs": [],
   "source": [
    "prompt_template = \"Looking at the context of '{context}'. What is a approapriate word to replace the following: {word}?\"\n",
    "\n",
    "llm_chain = LLMChain(\n",
    "    llm=llm,\n",
    "    prompt=PromptTemplate(template=prompt_template, input_variables=[\"word\", \"context\"]))\n",
    "\n",
    "llm_chain.predict(word=\"fan\", context=\"object\")"
   ]
  },
  {
   "cell_type": "markdown",
   "metadata": {},
   "source": [
    "The model effectively recommended “Ventilator” as an appropriate replacement for the word “fan” in the context of “objects.” Additionally, when the experiment is conducted with a different context, “humans”, the suggested replacement changes to “_Admirer_”. This demonstrates the model’s ability to adapt its responses based on the specified context."
   ]
  },
  {
   "cell_type": "code",
   "execution_count": null,
   "metadata": {},
   "outputs": [],
   "source": [
    "llm_chain.predict(word=\"fan\", context=\"humans\")"
   ]
  }
 ],
 "metadata": {
  "kernelspec": {
   "display_name": "tutorial-building-llm-powered-applications-with-langchain",
   "language": "python",
   "name": "python3"
  },
  "language_info": {
   "name": "python",
   "version": "3.12.0"
  }
 },
 "nbformat": 4,
 "nbformat_minor": 2
}
